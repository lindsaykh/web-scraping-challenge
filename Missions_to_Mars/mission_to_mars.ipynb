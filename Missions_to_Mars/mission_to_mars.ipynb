{
 "cells": [
  {
   "cell_type": "code",
   "execution_count": 2,
   "metadata": {},
   "outputs": [],
   "source": [
    "# Import dependencies for scraping: pandas, beautiful soup, requests/splinter\n",
    "import pandas as pd\n",
    "from bs4 import BeautifulSoup as bs\n",
    "import requests\n",
    "import pymongo\n",
    "from splinter import Browser\n",
    "from webdriver_manager.chrome import ChromeDriverManager"
   ]
  },
  {
   "cell_type": "code",
   "execution_count": 3,
   "metadata": {
    "scrolled": true
   },
   "outputs": [
    {
     "name": "stderr",
     "output_type": "stream",
     "text": [
      "[WDM] - ====== WebDriver manager ======\n",
      "[WDM] - Current google-chrome version is 88.0.4324\n",
      "[WDM] - Get LATEST driver version for 88.0.4324\n"
     ]
    },
    {
     "name": "stdout",
     "output_type": "stream",
     "text": [
      "\n",
      "\n"
     ]
    },
    {
     "name": "stderr",
     "output_type": "stream",
     "text": [
      "[WDM] - Driver [C:\\Users\\linds\\.wdm\\drivers\\chromedriver\\win32\\88.0.4324.96\\chromedriver.exe] found in cache\n"
     ]
    }
   ],
   "source": [
    "# Setup splinter\n",
    "executable_path = {'executable_path': ChromeDriverManager().install()}\n",
    "browser = Browser('chrome', **executable_path, headless=False)"
   ]
  },
  {
   "cell_type": "code",
   "execution_count": 11,
   "metadata": {
    "collapsed": true
   },
   "outputs": [
    {
     "name": "stdout",
     "output_type": "stream",
     "text": [
      "Most recent title from mars.nasa.gov/news:\n",
      "------------------------------------------\n",
      "Testing Proves Its Worth With Successful Mars Parachute Deployment\n",
      "------------------------------------------\n",
      "Corresponding first paragraph:\n",
      "------------------------------------------\n",
      "The giant canopy that helped land Perseverance on Mars was tested here on Earth at NASA’s Wallops Flight Facility in Virginia.\n"
     ]
    }
   ],
   "source": [
    "# Nasa Mars News\n",
    "# Scrape the NASA Mars News Site and collect the latest News Title and Paragraph Text. \n",
    "# URL info\n",
    "nasa_mars_url = \"https://mars.nasa.gov/news\"\n",
    "browser.visit(nasa_mars_url)\n",
    "html = browser.html\n",
    "soup = bs(html,'html.parser')\n",
    "\n",
    "# Grab latest news title and paragraph text. Assign the text to variables that you can reference later.\n",
    "# Title: after inspecting url found news title with \"content_title\" class \n",
    "news_title = soup.find_all('div', class_='content_title')[1].text\n",
    "\n",
    "# Paragraph: after inspecting url found summary paragraph on website within article_teaser_body\n",
    "\n",
    "news_p = soup.find_all('div', class_='article_teaser_body')[0].text\n",
    "\n",
    "# Print\n",
    "print(\"Most recent title from mars.nasa.gov/news:\")\n",
    "print(\"------------------------------------------\")\n",
    "print(news_title)\n",
    "print(\"------------------------------------------\")\n",
    "print(\"Corresponding first paragraph:\")\n",
    "print(\"------------------------------------------\")\n",
    "print(news_p)"
   ]
  },
  {
   "cell_type": "code",
   "execution_count": 14,
   "metadata": {},
   "outputs": [
    {
     "data": {
      "text/plain": [
       "'https://data-class-jpl-space.s3.amazonaws.com/JPL_Space/index.htmlimage/featured/mars3.jpg'"
      ]
     },
     "execution_count": 14,
     "metadata": {},
     "output_type": "execute_result"
    }
   ],
   "source": [
    "# JPL Mars Space Images - Featured Image\n",
    "# Visit the url for JPL Featured Space Image here https://data-class-jpl-space.s3.amazonaws.com/JPL_Space/index.html\n",
    "\n",
    "# first go to the website\n",
    "jpl_url = \"https://data-class-jpl-space.s3.amazonaws.com/JPL_Space/index.html\"\n",
    "browser.visit(jpl_url)\n",
    "html = browser.html\n",
    "soup = bs(html,'html.parser')\n",
    "\n",
    "# grab the featured image by going through url, div class \"floating text area,\" href a tag has featured image link\n",
    "featured_image = soup.find('div',class_='floating_text_area').a['href']\n",
    "\n",
    "# url for featured image\n",
    "featured_image_url = jpl_url + featured_image\n",
    "featured_image_url\n"
   ]
  },
  {
   "cell_type": "code",
   "execution_count": 14,
   "metadata": {
    "collapsed": true
   },
   "outputs": [
    {
     "name": "stdout",
     "output_type": "stream",
     "text": [
      "<table border=\"1\" class=\"dataframe\">\n",
      "  <thead>\n",
      "    <tr style=\"text-align: right;\">\n",
      "      <th></th>\n",
      "      <th>0</th>\n",
      "    </tr>\n",
      "  </thead>\n",
      "  <tbody>\n",
      "    <tr>\n",
      "      <th>0</th>\n",
      "      <td>0                              1\n",
      "0  Equatorial Diameter:                       6,792 km\n",
      "1       Polar Diameter:                       6,752 km\n",
      "2                 Mass:  6.39 × 10^23 kg (0.11 Earths)\n",
      "3                Moons:            2 (Phobos &amp; Deimos)\n",
      "4       Orbit Distance:       227,943,824 km (1.38 AU)\n",
      "5         Orbit Period:           687 days (1.9 years)\n",
      "6  Surface Temperature:                   -87 to -5 °C\n",
      "7         First Record:              2nd millennium BC\n",
      "8          Recorded By:           Egyptian astronomers</td>\n",
      "    </tr>\n",
      "    <tr>\n",
      "      <th>1</th>\n",
      "      <td>Mars - Earth Comparison             Mars            Earth\n",
      "0               Diameter:         6,779 km        12,742 km\n",
      "1                   Mass:  6.39 × 10^23 kg  5.97 × 10^24 kg\n",
      "2                  Moons:                2                1\n",
      "3      Distance from Sun:   227,943,824 km   149,598,262 km\n",
      "4         Length of Year:   687 Earth days      365.24 days\n",
      "5            Temperature:     -87 to -5 °C      -88 to 58°C</td>\n",
      "    </tr>\n",
      "    <tr>\n",
      "      <th>2</th>\n",
      "      <td>0                              1\n",
      "0  Equatorial Diameter:                       6,792 km\n",
      "1       Polar Diameter:                       6,752 km\n",
      "2                 Mass:  6.39 × 10^23 kg (0.11 Earths)\n",
      "3                Moons:            2 (Phobos &amp; Deimos)\n",
      "4       Orbit Distance:       227,943,824 km (1.38 AU)\n",
      "5         Orbit Period:           687 days (1.9 years)\n",
      "6  Surface Temperature:                   -87 to -5 °C\n",
      "7         First Record:              2nd millennium BC\n",
      "8          Recorded By:           Egyptian astronomers</td>\n",
      "    </tr>\n",
      "  </tbody>\n",
      "</table>\n"
     ]
    }
   ],
   "source": [
    "# Mars Facts\n",
    "# Visit the Mars Facts webpage and use Pandas to scrape the table containing facts about the planet including Diameter, \n",
    "# Mass, etc.\n",
    "\n",
    "mars_facts_url = \"https://space-facts.com/mars/\"\n",
    "browser.visit(mars_facts_url)\n",
    "\n",
    "mars_table = pd.read_html(mars_facts_url)\n",
    "mars_facts = pd.DataFrame(mars_table)\n",
    "\n",
    "#Use Pandas to convert the data to a HTML table string.\n",
    "mars_facts_html = mars_facts.to_html()\n",
    "mars_facts_html.replace('\\n','')\n",
    "print(mars_facts_html)"
   ]
  },
  {
   "cell_type": "code",
   "execution_count": 28,
   "metadata": {},
   "outputs": [
    {
     "name": "stdout",
     "output_type": "stream",
     "text": [
      "-------------------------------------\n",
      "Cerberus Hemisphere Enhanced\n",
      "-------------------------------------\n",
      "Schiaparelli Hemisphere Enhanced\n",
      "-------------------------------------\n",
      "Syrtis Major Hemisphere Enhanced\n",
      "-------------------------------------\n",
      "Valles Marineris Hemisphere Enhanced\n"
     ]
    },
    {
     "data": {
      "text/plain": [
       "[{'title': 'Cerberus Hemisphere Enhanced',\n",
       "  'image_url': 'https://astropedia.astrogeology.usgs.gov/download/Mars/Viking/cerberus_enhanced.tif/full.jpg'},\n",
       " {'title': 'Schiaparelli Hemisphere Enhanced',\n",
       "  'image_url': 'https://astropedia.astrogeology.usgs.gov/download/Mars/Viking/schiaparelli_enhanced.tif/full.jpg'},\n",
       " {'title': 'Syrtis Major Hemisphere Enhanced',\n",
       "  'image_url': 'https://astropedia.astrogeology.usgs.gov/download/Mars/Viking/syrtis_major_enhanced.tif/full.jpg'},\n",
       " {'title': 'Valles Marineris Hemisphere Enhanced',\n",
       "  'image_url': 'https://astropedia.astrogeology.usgs.gov/download/Mars/Viking/valles_marineris_enhanced.tif/full.jpg'}]"
      ]
     },
     "execution_count": 28,
     "metadata": {},
     "output_type": "execute_result"
    }
   ],
   "source": [
    "# Mars Hemispheres\n",
    "# Visit the USGS Astrogeology site to obtain high resolution images for each of Mar's hemispheres.\n",
    "\n",
    "# first go to the website\n",
    "mars_hemisphere_url = \"https://astrogeology.usgs.gov/search/results?q=hemisphere+enhanced&k1=target&v1=Mars\"\n",
    "browser.visit(mars_hemisphere_url)\n",
    "html = browser.html\n",
    "soup = bs(html,'html.parser')\n",
    "\n",
    "# grab each hemisphere image by going through url, div class \"collapsible results\" highlights all hemispheres (items)\n",
    "mars_hemispheres = soup.find('div',class_='collapsible results')\n",
    "mars_item = mars_hemispheres.find_all('div',class_='item')\n",
    "\n",
    "# initialize hemisphere image url list\n",
    "hemisphere_image_urls = []\n",
    "\n",
    "# loop through each item to get title and image url\n",
    "for item in mars_item:\n",
    "    # error handling\n",
    "    try:\n",
    "        # grab title in h3 text of div class \"description\"\n",
    "        hemisphere = item.find('div', class_='description')\n",
    "        title = hemisphere.h3.text\n",
    "        \n",
    "        # grab image url in <a href a\\>\n",
    "        # go to hemisphere url\n",
    "        hemisphere_url = hemisphere.a['href']\n",
    "        browser.visit('https://astrogeology.usgs.gov' + hemisphere_url)\n",
    "        html = browser.html\n",
    "        soup = bs(html,'html.parser')\n",
    "        image_url = soup.find('li').a['href']\n",
    "        \n",
    "        if (title and image_url):\n",
    "            # print results\n",
    "            print('-------------------------------------')\n",
    "            print(title)\n",
    "            #print(image_url)\n",
    "            \n",
    "        # create dictionary for title and url\n",
    "        hemisphere_dict={\n",
    "            'title': title,\n",
    "            'image_url': image_url\n",
    "        }\n",
    "        hemisphere_image_urls.append(hemisphere_dict)\n",
    "    except Exception as e:\n",
    "        print(e)\n",
    "\n",
    "hemisphere_image_urls\n"
   ]
  }
 ],
 "metadata": {
  "kernelspec": {
   "display_name": "Python 3",
   "language": "python",
   "name": "python3"
  },
  "language_info": {
   "codemirror_mode": {
    "name": "ipython",
    "version": 3
   },
   "file_extension": ".py",
   "mimetype": "text/x-python",
   "name": "python",
   "nbconvert_exporter": "python",
   "pygments_lexer": "ipython3",
   "version": "3.6.10"
  }
 },
 "nbformat": 4,
 "nbformat_minor": 2
}
