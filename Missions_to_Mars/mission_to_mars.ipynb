{
 "cells": [
  {
   "cell_type": "code",
   "execution_count": 1,
   "metadata": {},
   "outputs": [],
   "source": [
    "# Import dependencies for scraping: pandas, beautiful soup, requests/splinter\n",
    "import pandas as pd\n",
    "from bs4 import BeautifulSoup as bs\n",
    "import requests\n",
    "from splinter import Browser\n",
    "from webdriver_manager.chrome import ChromeDriverManager"
   ]
  },
  {
   "cell_type": "code",
   "execution_count": 2,
   "metadata": {
    "scrolled": true
   },
   "outputs": [
    {
     "name": "stderr",
     "output_type": "stream",
     "text": [
      "[WDM] - ====== WebDriver manager ======\n",
      "[WDM] - Current google-chrome version is 88.0.4324\n",
      "[WDM] - Get LATEST driver version for 88.0.4324\n"
     ]
    },
    {
     "name": "stdout",
     "output_type": "stream",
     "text": [
      "\n",
      "\n"
     ]
    },
    {
     "name": "stderr",
     "output_type": "stream",
     "text": [
      "[WDM] - Driver [C:\\Users\\linds\\.wdm\\drivers\\chromedriver\\win32\\88.0.4324.96\\chromedriver.exe] found in cache\n"
     ]
    }
   ],
   "source": [
    "# Setup splinter\n",
    "executable_path = {'executable_path': ChromeDriverManager().install()}\n",
    "browser = Browser('chrome', **executable_path, headless=False)"
   ]
  },
  {
   "cell_type": "code",
   "execution_count": 14,
   "metadata": {},
   "outputs": [
    {
     "name": "stdout",
     "output_type": "stream",
     "text": [
      "Most recent title from mars.nasa.gov/news:\n",
      "------------------------------------------\n",
      "Testing Proves Its Worth With Successful Mars Parachute Deployment\n",
      "------------------------------------------\n",
      "Corresponding first paragraph:\n",
      "------------------------------------------\n",
      "A 360-degree panorama taken by the rover’s Mastcam-Z instrument will be discussed during a public video chat this Thursday.\n"
     ]
    }
   ],
   "source": [
    "# Nasa Mars News\n",
    "# Scrape the NASA Mars News Site and collect the latest News Title and Paragraph Text. \n",
    "# URL info\n",
    "nasa_mars_url = \"https://mars.nasa.gov/news\"\n",
    "browser.visit(nasa_mars_url)\n",
    "html = browser.html\n",
    "soup = bs(html,'html.parser')\n",
    "\n",
    "# Grab latest news title and paragraph text. Assign the text to variables that you can reference later.\n",
    "# Title: after inspecting url found news title with \"content_title\" class \n",
    "news_title = soup.find_all('div', class_='content_title')[1].text\n",
    "\n",
    "# Paragraph: after inspecting url found summary paragraph on website within article_teaser_body\n",
    "\n",
    "news_p = soup.find_all('div', class_='article_teaser_body')[1].text\n",
    "\n",
    "# Print\n",
    "print(\"Most recent title from mars.nasa.gov/news:\")\n",
    "print(\"------------------------------------------\")\n",
    "print(news_title)\n",
    "print(\"------------------------------------------\")\n",
    "print(\"Corresponding first paragraph:\")\n",
    "print(\"------------------------------------------\")\n",
    "print(news_p)\n",
    "\n",
    "# note: if an index error appears try to run this cell again."
   ]
  },
  {
   "cell_type": "code",
   "execution_count": 19,
   "metadata": {
    "scrolled": true
   },
   "outputs": [
    {
     "name": "stdout",
     "output_type": "stream",
     "text": [
      "Below is the url corresponding to the JPL featured image from the website provided for this assignment:\n",
      "------------------------------------------\n",
      "https://d2pn8kiwq2w21t.cloudfront.net/images/jpegPIA23727.2e16d0ba.fill-400x400-c50.jpg\n",
      "------------------------------------------\n"
     ]
    }
   ],
   "source": [
    "# JPL Mars Space Images - Featured Image\n",
    "# Visit the url for JPL Featured Space Image here https://data-class-jpl-space.s3.amazonaws.com/JPL_Space/index.html\n",
    "\n",
    "# first go to the website\n",
    "jpl_url = \"https://www.jpl.nasa.gov/images\"\n",
    "browser.visit(jpl_url)\n",
    "html = browser.html\n",
    "soup = bs(html,'html.parser')\n",
    "\n",
    "# grab the featured image by using beautiful soup find_all 'img' and 'src'\n",
    "# from a brute force approach, index 2 was found to correspond to the appropriate image.\n",
    "featured_image_url = soup.find_all('img')[2]['src']\n",
    "\n",
    "print(\"Below is the url corresponding to the JPL featured image from the website provided for this assignment:\")\n",
    "print(\"------------------------------------------\")\n",
    "print(featured_image_url)\n",
    "print(\"------------------------------------------\")"
   ]
  },
  {
   "cell_type": "code",
   "execution_count": 8,
   "metadata": {},
   "outputs": [
    {
     "name": "stdout",
     "output_type": "stream",
     "text": [
      "<table border=\"1\" class=\"dataframe\">\n",
      "  <thead>\n",
      "    <tr style=\"text-align: right;\">\n",
      "      <th></th>\n",
      "      <th>Value</th>\n",
      "    </tr>\n",
      "    <tr>\n",
      "      <th>Description</th>\n",
      "      <th></th>\n",
      "    </tr>\n",
      "  </thead>\n",
      "  <tbody>\n",
      "    <tr>\n",
      "      <th>Equatorial Diameter:</th>\n",
      "      <td>6,792 km</td>\n",
      "    </tr>\n",
      "    <tr>\n",
      "      <th>Polar Diameter:</th>\n",
      "      <td>6,752 km</td>\n",
      "    </tr>\n",
      "    <tr>\n",
      "      <th>Mass:</th>\n",
      "      <td>6.39 × 10^23 kg (0.11 Earths)</td>\n",
      "    </tr>\n",
      "    <tr>\n",
      "      <th>Moons:</th>\n",
      "      <td>2 (Phobos &amp; Deimos)</td>\n",
      "    </tr>\n",
      "    <tr>\n",
      "      <th>Orbit Distance:</th>\n",
      "      <td>227,943,824 km (1.38 AU)</td>\n",
      "    </tr>\n",
      "    <tr>\n",
      "      <th>Orbit Period:</th>\n",
      "      <td>687 days (1.9 years)</td>\n",
      "    </tr>\n",
      "    <tr>\n",
      "      <th>Surface Temperature:</th>\n",
      "      <td>-87 to -5 °C</td>\n",
      "    </tr>\n",
      "    <tr>\n",
      "      <th>First Record:</th>\n",
      "      <td>2nd millennium BC</td>\n",
      "    </tr>\n",
      "    <tr>\n",
      "      <th>Recorded By:</th>\n",
      "      <td>Egyptian astronomers</td>\n",
      "    </tr>\n",
      "  </tbody>\n",
      "</table>\n"
     ]
    }
   ],
   "source": [
    "# Mars Facts\n",
    "# Visit the Mars Facts webpage and use Pandas to scrape the table containing facts about the planet including Diameter, \n",
    "# Mass, etc.\n",
    "\n",
    "mars_facts_url = \"https://space-facts.com/mars/\"\n",
    "browser.visit(mars_facts_url)\n",
    "\n",
    "# read table and create data frame with new column ids and reset index\n",
    "mars_table = pd.read_html(mars_facts_url)\n",
    "mars_facts = mars_table[0]\n",
    "mars_facts = mars_facts.rename(columns = {0:\"Description\", 1: \"Value\"})\n",
    "mars_facts.set_index(\"Description\",inplace=True)\n",
    "\n",
    "# Use Pandas to convert the data to a HTML table string.\n",
    "mars_facts_html = mars_facts.to_html()\n",
    "mars_facts_html.replace('\\n','')\n",
    "print(mars_facts_html)"
   ]
  },
  {
   "cell_type": "code",
   "execution_count": 22,
   "metadata": {},
   "outputs": [
    {
     "name": "stdout",
     "output_type": "stream",
     "text": [
      "-------------------------------------\n",
      "Cerberus Hemisphere Enhanced\n",
      "https://astropedia.astrogeology.usgs.gov/download/Mars/Viking/cerberus_enhanced.tif/full.jpg\n",
      "-------------------------------------\n",
      "Schiaparelli Hemisphere Enhanced\n",
      "https://astropedia.astrogeology.usgs.gov/download/Mars/Viking/schiaparelli_enhanced.tif/full.jpg\n",
      "-------------------------------------\n",
      "Syrtis Major Hemisphere Enhanced\n",
      "https://astropedia.astrogeology.usgs.gov/download/Mars/Viking/syrtis_major_enhanced.tif/full.jpg\n",
      "-------------------------------------\n",
      "Valles Marineris Hemisphere Enhanced\n",
      "https://astropedia.astrogeology.usgs.gov/download/Mars/Viking/valles_marineris_enhanced.tif/full.jpg\n"
     ]
    },
    {
     "data": {
      "text/plain": [
       "[{'title': 'Cerberus Hemisphere Enhanced',\n",
       "  'image_url': 'https://astropedia.astrogeology.usgs.gov/download/Mars/Viking/cerberus_enhanced.tif/full.jpg'},\n",
       " {'title': 'Schiaparelli Hemisphere Enhanced',\n",
       "  'image_url': 'https://astropedia.astrogeology.usgs.gov/download/Mars/Viking/schiaparelli_enhanced.tif/full.jpg'},\n",
       " {'title': 'Syrtis Major Hemisphere Enhanced',\n",
       "  'image_url': 'https://astropedia.astrogeology.usgs.gov/download/Mars/Viking/syrtis_major_enhanced.tif/full.jpg'},\n",
       " {'title': 'Valles Marineris Hemisphere Enhanced',\n",
       "  'image_url': 'https://astropedia.astrogeology.usgs.gov/download/Mars/Viking/valles_marineris_enhanced.tif/full.jpg'}]"
      ]
     },
     "execution_count": 22,
     "metadata": {},
     "output_type": "execute_result"
    }
   ],
   "source": [
    "# Mars Hemispheres\n",
    "# Visit the USGS Astrogeology site to obtain high resolution images for each of Mar's hemispheres.\n",
    "\n",
    "# first go to the website\n",
    "mars_hemisphere_url = \"https://astrogeology.usgs.gov/search/results?q=hemisphere+enhanced&k1=target&v1=Mars\"\n",
    "browser.visit(mars_hemisphere_url)\n",
    "html = browser.html\n",
    "soup = bs(html,'html.parser')\n",
    "\n",
    "# grab each hemisphere image by going through url, div class \"collapsible results\" highlights all hemispheres (items)\n",
    "mars_hemispheres = soup.find('div',class_='collapsible results')\n",
    "mars_item = mars_hemispheres.find_all('div',class_='item')\n",
    "\n",
    "# initialize hemisphere image url list\n",
    "hemisphere_image_urls = []\n",
    "\n",
    "# loop through each item to get title and image url\n",
    "for item in mars_item:\n",
    "    # error handling\n",
    "    try:\n",
    "        # grab title in h3 text of div class \"description\"\n",
    "        hemisphere = item.find('div', class_='description')\n",
    "        title = hemisphere.h3.text\n",
    "        \n",
    "        # grab image url in <a href a\\>\n",
    "        # go to hemisphere url\n",
    "        hemisphere_url = hemisphere.a['href']\n",
    "        browser.visit('https://astrogeology.usgs.gov' + hemisphere_url)\n",
    "        html = browser.html\n",
    "        soup = bs(html,'html.parser')\n",
    "        image_url = soup.find('li').a['href']\n",
    "        \n",
    "        if (title and image_url):\n",
    "            # print results\n",
    "            print('-------------------------------------')\n",
    "            print(title)\n",
    "            print(image_url)\n",
    "            \n",
    "        # create dictionary for title and url\n",
    "        hemisphere_dict={\n",
    "            'title': title,\n",
    "            'image_url': image_url\n",
    "        }\n",
    "        hemisphere_image_urls.append(hemisphere_dict)\n",
    "    except Exception as e:\n",
    "        print(e)\n",
    "\n",
    "#hemisphere_image_urls\n",
    "hemisphere_image_urls"
   ]
  },
  {
   "cell_type": "code",
   "execution_count": null,
   "metadata": {},
   "outputs": [],
   "source": []
  }
 ],
 "metadata": {
  "kernelspec": {
   "display_name": "Python 3",
   "language": "python",
   "name": "python3"
  },
  "language_info": {
   "codemirror_mode": {
    "name": "ipython",
    "version": 3
   },
   "file_extension": ".py",
   "mimetype": "text/x-python",
   "name": "python",
   "nbconvert_exporter": "python",
   "pygments_lexer": "ipython3",
   "version": "3.6.10"
  }
 },
 "nbformat": 4,
 "nbformat_minor": 2
}
